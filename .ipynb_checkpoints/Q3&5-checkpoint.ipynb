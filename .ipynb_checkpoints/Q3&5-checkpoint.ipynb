{
 "cells": [
  {
   "cell_type": "code",
   "execution_count": 1,
   "id": "modern-kazakhstan",
   "metadata": {},
   "outputs": [],
   "source": [
    "import numpy as np\n",
    "import pandas as pd\n",
    "import seaborn as sns\n",
    "\n",
    "from sklearn.feature_selection import r_regression\n",
    "from sklearn.model_selection import train_test_split\n",
    "from sklearn.ensemble import RandomForestRegressor\n",
    "from sklearn import preprocessing\n",
    "from matplotlib import pyplot as plt"
   ]
  },
  {
   "cell_type": "markdown",
   "id": "delayed-reconstruction",
   "metadata": {},
   "source": [
    "# Q3"
   ]
  },
  {
   "cell_type": "markdown",
   "id": "oriental-correction",
   "metadata": {},
   "source": [
    "### How are class labels distributed?"
   ]
  },
  {
   "cell_type": "code",
   "execution_count": 4,
   "id": "initial-observer",
   "metadata": {},
   "outputs": [],
   "source": [
    "#load data\n",
    "\n",
    "raw_data_labeled = pd.read_csv('task_2_annotations_labeled.csv')\n",
    "aggregated_data_labeled = pd.read_csv('task_2_annotaions_aggregated_labels.csv')\n",
    "raw_data_labeled.head()\n",
    "\n",
    "#load low level dataset\n",
    "features = pd.read_csv('data_features.csv')"
   ]
  },
  {
   "cell_type": "code",
   "execution_count": 5,
   "id": "dynamic-marks",
   "metadata": {},
   "outputs": [
    {
     "data": {
      "text/plain": [
       "<seaborn.axisgrid.FacetGrid at 0x2557f0a1cd0>"
      ]
     },
     "execution_count": 5,
     "metadata": {},
     "output_type": "execute_result"
    },
    {
     "data": {
      "image/png": "[encoded data removed]",
      "text/plain": [
       "<Figure size 360x360 with 1 Axes>"
      ]
     },
     "metadata": {
      "needs_background": "light"
     },
     "output_type": "display_data"
    }
   ],
   "source": [
    "sns.displot(data=raw_data_labeled, x=\"label\")"
   ]
  },
  {
   "cell_type": "markdown",
   "id": "exposed-corporation",
   "metadata": {},
   "source": [
    "### Are the classes imbalanced? How much?\n",
    "We use the entropy to determine how imbalanced the classes are. To get a balance measure between 0 and 1, with 1 being perfectly balanced and 0  being totally unbalanced (i.e. only 1 of k classes in data) we divide the entropy by log k.\n",
    "Since entropy is 0 if there is only one class and log k if the classes are equally distributed, we divide the entropy by log k, to get 0 for a totally unbalanced dataset (1 class) and 1 for a totally balanced dataset. "
   ]
  },
  {
   "cell_type": "code",
   "execution_count": 6,
   "id": "restricted-sudan",
   "metadata": {},
   "outputs": [],
   "source": [
    "labels = raw_data_labeled['label']"
   ]
  },
  {
   "cell_type": "code",
   "execution_count": 7,
   "id": "lasting-cancer",
   "metadata": {},
   "outputs": [],
   "source": [
    "def balance(data, k=2): #k = number of different classes\n",
    "    \n",
    "    if k == 1:\n",
    "        raise ValueError('k must be >= 2')\n",
    "        \n",
    "    count_per_class = data.value_counts()\n",
    "    n = len(labels)\n",
    "    \n",
    "    H = 0\n",
    "    \n",
    "    for c_i in count_per_class:\n",
    "        H += c_i/n * np.log(c_i/n)\n",
    "        \n",
    "    balance = -H/np.log(k)\n",
    "    return balance"
   ]
  },
  {
   "cell_type": "code",
   "execution_count": 8,
   "id": "biological-dallas",
   "metadata": {},
   "outputs": [
    {
     "data": {
      "text/plain": [
       "0.954494698684711"
      ]
     },
     "execution_count": 8,
     "metadata": {},
     "output_type": "execute_result"
    }
   ],
   "source": [
    "balance(labels, k=4)"
   ]
  },
  {
   "cell_type": "markdown",
   "id": "approximate-steam",
   "metadata": {},
   "source": [
    "### How are the features distributed?"
   ]
  },
  {
   "cell_type": "markdown",
   "id": "heated-dakota",
   "metadata": {},
   "source": [
    "# xxxxxxx TODO! xxxxxxx"
   ]
  },
  {
   "cell_type": "code",
   "execution_count": 10,
   "id": "5801b7cb",
   "metadata": {},
   "outputs": [
    {
     "data": {
      "text/plain": [
       "0.9219011525813766"
      ]
     },
     "execution_count": 10,
     "metadata": {},
     "output_type": "execute_result"
    }
   ],
   "source": [
    "#calculate skewnewss\n",
    "skewness = features.iloc[: , 3:].skew()\n",
    "skewness.mean()"
   ]
  },
  {
   "cell_type": "markdown",
   "id": "6aae6ba9",
   "metadata": {},
   "source": [
    "On average the features are positively skewed."
   ]
  },
  {
   "cell_type": "code",
   "execution_count": 18,
   "id": "12ae98c2",
   "metadata": {},
   "outputs": [
    {
     "data": {
      "text/plain": [
       "168.97889707708876"
      ]
     },
     "execution_count": 18,
     "metadata": {},
     "output_type": "execute_result"
    }
   ],
   "source": [
    "kurtosis = features.iloc[:, 3:].kurtosis(axis=1)\n",
    "kurtosis.mean()"
   ]
  },
  {
   "cell_type": "markdown",
   "id": "03c57edf",
   "metadata": {},
   "source": [
    "Kurtosis for nomral dist.: 3\n",
    "Excess kurtosis = kurtosis - 3 = 165.98\n",
    "\n",
    "Hence, on average the features are very heavily distributed on the tails. However this assumes that the data is unimodal. There might be multimodal features, but we did not find an easy way to check if all or most features are unimodal."
   ]
  },
  {
   "cell_type": "markdown",
   "id": "fancy-federal",
   "metadata": {},
   "source": [
    "### Are there any pairs or subsets of features that seem highly correlated or redundant?"
   ]
  },
  {
   "cell_type": "code",
   "execution_count": 9,
   "id": "satellite-institution",
   "metadata": {},
   "outputs": [],
   "source": []
  },
  {
   "cell_type": "code",
   "execution_count": 10,
   "id": "surgical-sample",
   "metadata": {},
   "outputs": [],
   "source": [
    "def get_redundant_pairs(df):\n",
    "    '''Get diagonal and lower triangular pairs of correlation matrix'''\n",
    "    pairs_to_drop = set()\n",
    "    cols = df.columns\n",
    "    for i in range(0, df.shape[1]):\n",
    "        for j in range(0, i+1):\n",
    "            pairs_to_drop.add((cols[i], cols[j]))\n",
    "    return pairs_to_drop\n",
    "\n",
    "def get_top_abs_correlations(df, n=5, ascending=False):\n",
    "    au_corr = df.corr().abs().unstack()\n",
    "    labels_to_drop = get_redundant_pairs(df)\n",
    "    au_corr = au_corr.drop(labels=labels_to_drop).sort_values(ascending=ascending)\n",
    "    return au_corr[0:n]"
   ]
  },
  {
   "cell_type": "markdown",
   "id": "compliant-holiday",
   "metadata": {},
   "source": [
    "#### Covar and top correlation pairs"
   ]
  },
  {
   "cell_type": "code",
   "execution_count": 11,
   "id": "alleged-variation",
   "metadata": {},
   "outputs": [
    {
     "name": "stdout",
     "output_type": "stream",
     "text": [
      "Top Absolute Correlations\n",
      "librosa_mfcc_mean_0         librosa_mfcc_pct_50_0          0.999963\n",
      "librosa_mfcc_mean_2         librosa_mfcc_pct_50_2          0.999928\n",
      "librosa_mfcc_mean_6         librosa_mfcc_pct_50_6          0.999861\n",
      "mirtoolbox_roughness_mean   mirtoolbox_roughness_pct_50    0.999811\n",
      "librosa_mfcc_mean_7         librosa_mfcc_pct_50_7          0.999763\n",
      "librosa_mfcc_mean_3         librosa_mfcc_pct_50_3          0.999726\n",
      "librosa_mfcc_mean_5         librosa_mfcc_pct_50_5          0.999591\n",
      "librosa_mfcc_mean_8         librosa_mfcc_pct_50_8          0.999538\n",
      "mirtoolbox_dynamics_mean    mirtoolbox_dynamics_pct_50     0.999521\n",
      "librosa_mfcc_mean_1         librosa_mfcc_pct_50_1          0.999302\n",
      "librosa_mfcc_mean_10        librosa_mfcc_pct_50_10         0.998873\n",
      "librosa_mfcc_mean_9         librosa_mfcc_pct_50_9          0.998688\n",
      "mirtoolbox_dynamics_pct_50  mirtoolbox_dynamics_pct_90     0.998626\n",
      "mirtoolbox_dynamics_mean    mirtoolbox_dynamics_pct_10     0.998362\n",
      "                            mirtoolbox_dynamics_pct_90     0.998208\n",
      "librosa_mfcc_mean_4         librosa_mfcc_pct_50_4          0.997740\n",
      "librosa_mfcc_mean_11        librosa_mfcc_pct_50_11         0.997708\n",
      "mirtoolbox_dynamics_pct_10  mirtoolbox_dynamics_pct_50     0.997228\n",
      "librosa_mfcc_mean_0         librosa_mfcc_pct_90_0          0.996573\n",
      "librosa_mfcc_pct_50_0       librosa_mfcc_pct_90_0          0.996565\n",
      "librosa_mfcc_mean_0         librosa_mfcc_pct_10_0          0.996552\n",
      "librosa_mfcc_pct_10_0       librosa_mfcc_pct_50_0          0.996371\n",
      "mirtoolbox_novelty_mean     mirtoolbox_novelty_pct_90      0.995871\n",
      "essentia_strong_peak_mean   essentia_strong_peak_stdev     0.995861\n",
      "mirtoolbox_dynamics_pct_10  mirtoolbox_dynamics_pct_90     0.993412\n",
      "librosa_mfcc_mean_2         librosa_mfcc_pct_90_2          0.991686\n",
      "librosa_mfcc_pct_50_2       librosa_mfcc_pct_90_2          0.991410\n",
      "librosa_mfcc_pct_90_0       mirtoolbox_dynamics_pct_90     0.991251\n",
      "librosa_chroma_mean_8       librosa_chroma_pct_50_8        0.990489\n",
      "librosa_mfcc_pct_90_0       mirtoolbox_dynamics_pct_50     0.990469\n",
      "                            mirtoolbox_dynamics_mean       0.990421\n",
      "librosa_chroma_mean_1       librosa_chroma_pct_50_1        0.990366\n",
      "librosa_mfcc_mean_2         librosa_mfcc_pct_10_2          0.990288\n",
      "librosa_mfcc_pct_10_2       librosa_mfcc_pct_50_2          0.990180\n",
      "librosa_chroma_mean_4       librosa_chroma_pct_50_4        0.990151\n",
      "librosa_chroma_mean_9       librosa_chroma_pct_50_9        0.990106\n",
      "dtype: float64\n"
     ]
    }
   ],
   "source": [
    "#calculate covariance matrix for features\n",
    "features_cov = features.iloc[: , 3:].corr() # remove snipped_id etc..\n",
    "\n",
    "print(\"Top Absolute Correlations\")\n",
    "print(get_top_abs_correlations(features_cov, 36, ascending=False))"
   ]
  },
  {
   "cell_type": "markdown",
   "id": "threatened-burner",
   "metadata": {},
   "source": [
    "1) 36 feature pairs have a covariance of higher than 0.99\n",
    "\n",
    "2) 237 feature pairs have a covariance of higher than 0.9"
   ]
  },
  {
   "cell_type": "code",
   "execution_count": 12,
   "id": "stuck-throw",
   "metadata": {},
   "outputs": [],
   "source": [
    "#add labels to snippets in features dataframe\n",
    "for i, el in aggregated_data_labeled.iterrows():\n",
    "    features.loc[features['segment_id'] == i, 'label'] = el['label']          "
   ]
  },
  {
   "cell_type": "markdown",
   "id": "charged-break",
   "metadata": {},
   "source": [
    "# Q5"
   ]
  },
  {
   "cell_type": "markdown",
   "id": "monthly-charlotte",
   "metadata": {},
   "source": [
    "### Which features seem useful for classification?"
   ]
  },
  {
   "cell_type": "markdown",
   "id": "mechanical-holder",
   "metadata": {},
   "source": [
    "\n",
    "#### Feature importance with random forest"
   ]
  },
  {
   "cell_type": "code",
   "execution_count": 15,
   "id": "sticky-astrology",
   "metadata": {},
   "outputs": [],
   "source": [
    "#encode labels as numerical values\n",
    "le = preprocessing.LabelEncoder()\n",
    "le.fit(features.label)\n",
    "features['label'] = le.transform(features.label)\n",
    "\n",
    "X = features.drop(['pianist_id', 'segment_id', 'snippet_id', 'label'], axis=1)\n",
    "y = features.label"
   ]
  },
  {
   "cell_type": "code",
   "execution_count": 16,
   "id": "lonely-province",
   "metadata": {},
   "outputs": [],
   "source": [
    "#create split\n",
    "X_train, X_test, y_train, y_test = train_test_split(X, y, test_size=0.25, random_state=42)"
   ]
  },
  {
   "cell_type": "code",
   "execution_count": 17,
   "id": "simplified-baghdad",
   "metadata": {},
   "outputs": [
    {
     "data": {
      "text/plain": [
       "RandomForestRegressor(n_estimators=150)"
      ]
     },
     "execution_count": 17,
     "metadata": {},
     "output_type": "execute_result"
    }
   ],
   "source": [
    "#train random forest\n",
    "rf = RandomForestRegressor(n_estimators=150)\n",
    "rf.fit(X_train, y_train)"
   ]
  },
  {
   "cell_type": "code",
   "execution_count": 18,
   "id": "closed-modem",
   "metadata": {},
   "outputs": [],
   "source": [
    "sort = rf.feature_importances_.argsort()"
   ]
  },
  {
   "cell_type": "code",
   "execution_count": 19,
   "id": "legitimate-disease",
   "metadata": {},
   "outputs": [
    {
     "data": {
      "text/plain": [
       "Text(0, 0.5, 'features')"
      ]
     },
     "execution_count": 19,
     "metadata": {},
     "output_type": "execute_result"
    },
    {
     "data": {
      "image/png": "[encoded data removed]",
      "text/plain": [
       "<Figure size 432x288 with 1 Axes>"
      ]
     },
     "metadata": {
      "needs_background": "light"
     },
     "output_type": "display_data"
    }
   ],
   "source": [
    "plt.barh(X.columns[sort], rf.feature_importances_[sort])\n",
    "plt.rcParams[\"figure.figsize\"] = (10,3)\n",
    "\n",
    "plt.yticks([])\n",
    "plt.xlabel(\"Feature Importance\")\n",
    "plt.ylabel('features')\n"
   ]
  },
  {
   "cell_type": "markdown",
   "id": "civilian-thanksgiving",
   "metadata": {},
   "source": [
    "We used a random forest to determine feature importance. On the chart above we can see that most features are not important for classification, and only a hand full are very important.\n",
    "\n",
    "Let's take a closer look at the most important features."
   ]
  },
  {
   "cell_type": "code",
   "execution_count": 20,
   "id": "subtle-victim",
   "metadata": {},
   "outputs": [
    {
     "data": {
      "text/plain": [
       "Text(0.5, 0, 'Feature Importance')"
      ]
     },
     "execution_count": 20,
     "metadata": {},
     "output_type": "execute_result"
    },
    {
     "data": {
      "image/png": "[encoded data removed]",
      "text/plain": [
       "<Figure size 720x216 with 1 Axes>"
      ]
     },
     "metadata": {
      "needs_background": "light"
     },
     "output_type": "display_data"
    }
   ],
   "source": [
    "plt.barh(X.columns[sort][-10:], rf.feature_importances_[sort][-10:])\n",
    "\n",
    "plt.rcParams[\"figure.figsize\"] = (5,5)\n",
    "plt.xlabel(\"Feature Importance\")\n"
   ]
  },
  {
   "cell_type": "markdown",
   "id": "9de7c110",
   "metadata": {},
   "source": [
    "### Which features are correlated with the labels?"
   ]
  },
  {
   "cell_type": "code",
   "execution_count": 22,
   "id": "pending-aquarium",
   "metadata": {},
   "outputs": [
    {
     "data": {
      "text/plain": [
       "array([140, 138,   0,  80,  76,  79, 149, 148,  78, 145,   3, 147, 143,\n",
       "       167, 164, 166, 168, 137,  13,  14,  61,  64,  43,  44,  63,  56,\n",
       "         5,  46,  49,  58,  41,  48,  59,  38,  60,  18,  65,  39,  36,\n",
       "        11, 146,  84,  81, 165, 123,  50,  12,  75,  57,  83,  85,  25,\n",
       "        21,  23, 121,  19, 124,  71,  72,  97,   7, 113,   4,  53, 162,\n",
       "       158, 142,  40,  95,  24, 111,  62, 114,  47, 159, 125, 161,  22,\n",
       "        74,  92,  16, 163,  73, 115,  45,  68, 109,  91, 106, 108,   1,\n",
       "       152,  94, 110,  15,  33, 100,  77,  93, 133,  37,   8, 131,  54,\n",
       "       135, 105,  99, 102, 134,   9, 101,  96, 104,  69, 153, 103,  10,\n",
       "        28, 118, 132, 107, 119, 116,  66, 127, 144,  42,  87, 160, 120,\n",
       "        20,  98,  51, 128, 150, 117, 112, 130,  34, 122, 126,  82, 129,\n",
       "        31, 157,  70,  29,  17, 156, 154,   2,  35,  26, 155,  55, 151,\n",
       "        32, 139,  67,  30,   6,  52,  27,  90,  89,  86,  88, 141, 136],\n",
       "      dtype=int64)"
      ]
     },
     "execution_count": 22,
     "metadata": {},
     "output_type": "execute_result"
    }
   ],
   "source": [
    "r_sort = r_regression(X, y).argsort()\n",
    "r_sort"
   ]
  },
  {
   "cell_type": "code",
   "execution_count": 25,
   "id": "compound-portrait",
   "metadata": {},
   "outputs": [
    {
     "data": {
      "text/plain": [
       "Index(['midlevel_features_dissonance', 'midlevel_features_rhythm_complexity',\n",
       "       'essentia_dissonance_mean', 'librosa_mfcc_pct_90_0',\n",
       "       'librosa_mfcc_mean_0', 'librosa_mfcc_pct_50_0',\n",
       "       'mirtoolbox_dynamics_pct_90', 'mirtoolbox_dynamics_pct_50',\n",
       "       'librosa_mfcc_pct_10_0', 'mirtoolbox_dynamics_mean',\n",
       "       ...\n",
       "       'librosa_chroma_pct_90_2', 'essentia_pitch_salience_stdev',\n",
       "       'librosa_chroma_std_7', 'librosa_chroma_std_2', 'librosa_mfcc_pct_90_2',\n",
       "       'librosa_mfcc_pct_50_2', 'librosa_mfcc_mean_2', 'librosa_mfcc_pct_10_2',\n",
       "       'midlevel_features_tonal_stability', 'midlevel_features_melody'],\n",
       "      dtype='object', length=169)"
      ]
     },
     "execution_count": 25,
     "metadata": {},
     "output_type": "execute_result"
    }
   ],
   "source": [
    "X.columns[r_sort]"
   ]
  },
  {
   "cell_type": "code",
   "execution_count": 31,
   "id": "adb66453",
   "metadata": {},
   "outputs": [
    {
     "data": {
      "text/plain": [
       "Text(0, 0.5, 'features')"
      ]
     },
     "execution_count": 31,
     "metadata": {},
     "output_type": "execute_result"
    },
    {
     "data": {
      "image/png": "[encoded data removed]",
      "text/plain": [
       "<Figure size 360x360 with 1 Axes>"
      ]
     },
     "metadata": {
      "needs_background": "light"
     },
     "output_type": "display_data"
    }
   ],
   "source": [
    "# plt.barh(X.columns[r_sort][-10:], r_regression(X, y)[r_sort][-10:])\n",
    "plt.barh(X.columns[r_sort], r_regression(X, y)[r_sort])\n",
    "\n",
    "plt.yticks([])\n",
    "plt.rcParams[\"figure.figsize\"] = (5,5)\n",
    "plt.xlabel(\"Pearson correlation\")\n",
    "plt.ylabel(\"features\")"
   ]
  },
  {
   "cell_type": "markdown",
   "id": "9f6d088d",
   "metadata": {},
   "source": [
    "Most features have a weak correlation below +- 0.3. Only a few features have a medium correlation between +-0.3 and +-0.5"
   ]
  },
  {
   "cell_type": "code",
   "execution_count": null,
   "id": "f8fe7a2e",
   "metadata": {},
   "outputs": [],
   "source": []
  }
 ],
 "metadata": {
  "kernelspec": {
   "display_name": "Python 3 (ipykernel)",
   "language": "python",
   "name": "python3"
  },
  "language_info": {
   "codemirror_mode": {
    "name": "ipython",
    "version": 3
   },
   "file_extension": ".py",
   "mimetype": "text/x-python",
   "name": "python",
   "nbconvert_exporter": "python",
   "pygments_lexer": "ipython3",
   "version": "3.9.7"
  }
 },
 "nbformat": 4,
 "nbformat_minor": 5
}
